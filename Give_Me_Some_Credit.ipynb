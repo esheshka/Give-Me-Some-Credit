{
  "nbformat": 4,
  "nbformat_minor": 0,
  "metadata": {
    "colab": {
      "provenance": [],
      "authorship_tag": "ABX9TyPbua7JHcTFktsGPzrUZRVx",
      "include_colab_link": true
    },
    "kernelspec": {
      "name": "python3",
      "display_name": "Python 3"
    },
    "language_info": {
      "name": "python"
    }
  },
  "cells": [
    {
      "cell_type": "markdown",
      "metadata": {
        "id": "view-in-github",
        "colab_type": "text"
      },
      "source": [
        "<a href=\"https://colab.research.google.com/github/esheshka/Give-Me-Some-Credit/blob/main/Give_Me_Some_Credit.ipynb\" target=\"_parent\"><img src=\"https://colab.research.google.com/assets/colab-badge.svg\" alt=\"Open In Colab\"/></a>"
      ]
    },
    {
      "cell_type": "markdown",
      "source": [
        "# **Настройка тетради и установка/подключение библиотек**"
      ],
      "metadata": {
        "id": "KHU3hcKwCNUC"
      }
    },
    {
      "cell_type": "code",
      "source": [
        "#@title **Удобства**\n",
        "\n",
        "from IPython.display import clear_output\n",
        "# %lsmagic"
      ],
      "metadata": {
        "cellView": "form",
        "id": "liiCkVZtCpD8"
      },
      "execution_count": 1,
      "outputs": []
    },
    {
      "cell_type": "code",
      "source": [
        "#@title **Подключение Kaggle**\n",
        "\n",
        "!pip install kaggle\n",
        "\n",
        "from google.colab import drive; drive.mount('/content/drive')\n",
        "\n",
        "!pip -q install --upgrade --force-reinstall --no-deps kaggle > log    # upgrade kaggle package (to avoid a warning)\n",
        "!mkdir -p ~/.kaggle                                                   # .kaggle folder must contain kaggle.json for kaggle executable to properly authenticate you to Kaggle.com\n",
        "!cp /content/drive/MyDrive/kaggle.json ~/.kaggle/kaggle.json > log    # First, download kaggle.json from kaggle.com (in Account page) and place it in the root of mounted Google Drive\n",
        "!cp kaggle.json ~/.kaggle/kaggle.json > log                           # Alternative location of kaggle.json (without a connection to Google Drive)\n",
        "!chmod 600 ~/.kaggle/kaggle.json                                      # give only the owner full read/write access to kaggle.json\n",
        "!kaggle config set -n competition -v GiveMeSomeCredit                 # set the competition context for the next few kaggle API calls. !kaggle config view - shows current settings\n",
        "!kaggle competitions download >> log                                  # download competition dataset as a zip file\n",
        "!unzip -o *.zip >> log                                                # Kaggle dataset is copied as a single file and needs to be unzipped.\n",
        "# !kaggle competitions leaderboard --show                               # print public leaderboard\n",
        "\n",
        "clear_output()"
      ],
      "metadata": {
        "cellView": "form",
        "id": "c0eEzzxeQB8u"
      },
      "execution_count": null,
      "outputs": []
    },
    {
      "cell_type": "code",
      "execution_count": 3,
      "metadata": {
        "id": "NcdOKQuwAyCn",
        "cellView": "form"
      },
      "outputs": [],
      "source": [
        "#@title **PIP**\n",
        "\n",
        "!pip install catboost\n",
        "!pip install lightgbm\n",
        "\n",
        "clear_output()"
      ]
    },
    {
      "cell_type": "code",
      "execution_count": 4,
      "metadata": {
        "id": "4GIYh4Ys72ed",
        "cellView": "form"
      },
      "outputs": [],
      "source": [
        "#@title **Imports**\n",
        "\n",
        "import pandas as pd\n",
        "import numpy as np\n",
        "\n",
        "from sklearn.model_selection import train_test_split, GroupKFold\n",
        "from sklearn.metrics import roc_auc_score\n",
        "\n",
        "from sklearn.decomposition import PCA\n",
        "\n",
        "from sklearn.linear_model import LogisticRegression as LR\n",
        "from catboost import CatBoostClassifier as CBC\n",
        "from sklearn.ensemble import GradientBoostingClassifier as GBC\n",
        "from sklearn.ensemble import RandomForestClassifier as RFC\n",
        "from sklearn.neural_network import MLPClassifier as MLPC\n",
        "import xgboost as xgb\n",
        "from lightgbm import LGBMClassifier as LGBMC\n",
        "\n",
        "from sklearn.model_selection import GridSearchCV as GSCV\n",
        "\n",
        "clear_output()"
      ]
    }
  ]
}